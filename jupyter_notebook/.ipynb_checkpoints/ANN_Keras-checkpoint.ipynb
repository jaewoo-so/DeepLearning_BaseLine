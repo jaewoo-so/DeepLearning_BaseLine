{
 "cells": [
  {
   "cell_type": "code",
   "execution_count": 1,
   "metadata": {
    "scrolled": false
   },
   "outputs": [
    {
     "name": "stderr",
     "output_type": "stream",
     "text": [
      "Using TensorFlow backend.\n"
     ]
    }
   ],
   "source": [
    "from keras import layers , models\n",
    "from keras import losses , optimizers\n",
    "import matplotlib.pyplot as plt\n",
    "plt.style.use('seaborn-whitegrid')\n",
    "%matplotlib inline"
   ]
  },
  {
   "cell_type": "markdown",
   "metadata": {},
   "source": [
    "---\n",
    "#### Use Funtion"
   ]
  },
  {
   "cell_type": "code",
   "execution_count": null,
   "metadata": {
    "collapsed": true
   },
   "outputs": [],
   "source": [
    "def ANN_Funtion(Nim,Nh,Nout):\n",
    "    x = layers.Input(shape=(Nin,))\n",
    "    hl = laysers.Dense(Nh)(x)\n",
    "    ha = layers.Activation('relu')(hl)\n",
    "    yl = laysers.Dense(Nout)(ha)\n",
    "    yo = lasyers.Activation('softmax')(yl)\n",
    "\n",
    "    opt = optimizers.Adam()\n",
    "    model_f = mdoels.Model(inputs = x, outputs = yo) # this input and output is not Data. Tensor\n",
    "    #model = Model(inputs=[a1, a2], outputs=[b1, b3, b3])\n",
    "    return model.compile(loss = losses.categorical_crossentropy , optimizer = opt , metrixs = ['accuracy'])"
   ]
  },
  {
   "cell_type": "markdown",
   "metadata": {},
   "source": [
    "---\n",
    "#### Use Sequential Model"
   ]
  },
  {
   "cell_type": "code",
   "execution_count": null,
   "metadata": {
    "collapsed": true
   },
   "outputs": [],
   "source": [
    "def ANN_Sq(Nin,Nh,Nout):\n",
    "    model = models.Sequential()\n",
    "    model.add(layers.Dense(Nh,activation='relu',input_shape=(Nin,)))\n",
    "    model.add(laysers.Dense(Nout,activation='softmax'))\n",
    "    \n",
    "    opt = optimizers.Adam()\n",
    "    \n",
    "    return model.compile(loss = losses.categorical_crossentropy , optimizer = opt , metrixs = ['accuracy'])"
   ]
  },
  {
   "cell_type": "markdown",
   "metadata": {},
   "source": [
    "---\n",
    "#### Use Class with Funtion"
   ]
  },
  {
   "cell_type": "code",
   "execution_count": null,
   "metadata": {
    "collapsed": true
   },
   "outputs": [],
   "source": [
    "class ANN_Fun(models.Model):\n",
    "    def __init__(self,Nin,Nh,Nout):\n",
    "        Hidden = layers.Dense(Nh)\n",
    "        Output = layers.Dense(Nout)\n",
    "        Act_relu = layers.Activation('relu')\n",
    "        Act_softmax = layers.Activation('softmax')\n",
    "        \n",
    "        xL = layers.Input(shape=(Nin,))\n",
    "        hL = Act_relu(Hidden)\n",
    "        yL = Act_softmax(Output(hL))\n",
    "        \n",
    "        super().__init__(xL,yL) # Same as mdoels.Model(inputs = xL, outputs = yL)\n",
    "        self.complie\n",
    "        \n",
    "        \n",
    "        "
   ]
  },
  {
   "cell_type": "markdown",
   "metadata": {
    "collapsed": true
   },
   "source": [
    "---\n",
    "#### Use Class with sequential"
   ]
  },
  {
   "cell_type": "code",
   "execution_count": null,
   "metadata": {
    "collapsed": true
   },
   "outputs": [],
   "source": [
    "class ANN_Seq(models.Sequential):\n",
    "    def __init__(self, Nin, Nh, Nout):\n",
    "        super().__init__()\n",
    "        self.add(layers.Dense(Nh, activation='relu', input_shape=(Nin,)))\n",
    "        self.add(layers.Dense(Nout, activation='softmax'))\n",
    "        self.compile(loss='categorical_crossentropy',\n",
    "                     optimizer='adam', metrics=['accuracy'])"
   ]
  }
 ],
 "metadata": {
  "kernelspec": {
   "display_name": "Python [conda env:tf]",
   "language": "python",
   "name": "conda-env-tf-py"
  },
  "language_info": {
   "codemirror_mode": {
    "name": "ipython",
    "version": 3
   },
   "file_extension": ".py",
   "mimetype": "text/x-python",
   "name": "python",
   "nbconvert_exporter": "python",
   "pygments_lexer": "ipython3",
   "version": "3.5.4"
  }
 },
 "nbformat": 4,
 "nbformat_minor": 2
}
